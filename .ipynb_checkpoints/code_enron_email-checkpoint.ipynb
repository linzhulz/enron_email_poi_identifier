{
 "cells": [
  {
   "cell_type": "markdown",
   "metadata": {},
   "source": [
    "# Set Environment"
   ]
  },
  {
   "cell_type": "code",
   "execution_count": 529,
   "metadata": {
    "collapsed": true
   },
   "outputs": [],
   "source": [
    "import numpy as np\n",
    "import pandas as pd\n",
    "import pickle\n",
    "from matplotlib import pyplot as plt\n",
    "import seaborn as sns\n",
    "from IPython.display import display\n",
    "import os\n",
    "\n",
    "%matplotlib inline\n",
    "sns.set(style=\"whitegrid\", color_codes=True)\n",
    "\n",
    "\n",
    "from pprint import pprint\n",
    "from sklearn.svm import SVC\n",
    "from sklearn.naive_bayes import GaussianNB\n",
    "from sklearn.grid_search import GridSearchCV\n",
    "from sklearn.tree import DecisionTreeClassifier\n",
    "from sklearn.neighbors import KNeighborsClassifier\n",
    "from sklearn.preprocessing import StandardScaler, MinMaxScaler\n",
    "from sklearn.feature_selection import SelectKBest, chi2, f_classif\n",
    "from sklearn.metrics import classification_report, precision_recall_curve\n",
    "from sklearn.cross_validation import train_test_split, cross_val_score, StratifiedShuffleSplit\n",
    "\n",
    "from sklearn.pipeline import Pipeline, make_pipeline\n",
    "\n",
    "# import tools\n",
    "from feature_format import featureFormat, targetFeatureSplit\n",
    "from tester import dump_classifier_and_data, test_classifier"
   ]
  },
  {
   "cell_type": "code",
   "execution_count": 530,
   "metadata": {
    "collapsed": false
   },
   "outputs": [],
   "source": [
    "# set work directory\n",
    "os.chdir(\"/Users/linzhu/Documents/mooc/dand/dand_p5_enron_email\")"
   ]
  },
  {
   "cell_type": "markdown",
   "metadata": {},
   "source": [
    "# Explotary Data Analysis"
   ]
  },
  {
   "cell_type": "markdown",
   "metadata": {},
   "source": [
    "## Data Summary \n",
    "### Requirements"
   ]
  },
  {
   "cell_type": "markdown",
   "metadata": {},
   "source": [
    "Data Exploration (related mini-project: Lesson 5):\n",
    "- total number of data points\n",
    "- allocation across classes (POI/non-POI)\n",
    "- number of features used\n",
    "- are there features with many missing values? etc.\n",
    "- Student response identifies outlier(s) in the financial data, and explains how they are removed or otherwise handled.\n",
    "\n",
    "Create new features (related mini-project: Lesson 11)\n",
    "\n",
    "- At least one new feature is implemented. \n",
    "- Justification for that feature is provided in the written response, and the effect of that feature on the final algorithm performance is tested. \n",
    "- The student is not required to include their new feature in their final feature set.\n",
    "\n",
    "Intelligently select features (related mini-project: Lesson 11)\n",
    "\n",
    "- Univariate or recursive feature selection is deployed, or features are selected by hand (different combinations of features are attempted, and the performance is documented for each one). \n",
    "- Features that are selected are reported and the number of features selected is justified. \n",
    "- For an algorithm that supports getting the feature importances (e.g. decision tree) or feature scores (e.g. SelectKBest), those are documented as well.\n",
    "\n",
    "Properly scale features (related mini-project: Lesson 9)\n",
    "\n",
    "- If algorithm calls for scaled features, feature scaling is deployed."
   ]
  },
  {
   "cell_type": "markdown",
   "metadata": {},
   "source": [
    "Column Name Descritpion:\n",
    "\n",
    "(1) Reflects items such as base salary, executive cash allowances, and benefits payments.\n",
    "(2) Reflects annual cash incentives paid based upon company performance. Also may include other retention payments.\n",
    "(3)\n",
    "(4) Reflects voluntary executive deferrals of salary, annual cash incentives, and long-term cash incentives as well as cash fees deferred by non-employee directors under a deferred compensation arrangement. May also reflect deferrals under a stock option or phantom stock unit in lieu of cash arrangement.\n",
    "- (5)(6) Reflects total amount of loan advances, excluding repayments, provided by the Debtor in return for a promise of repayment. In certain instances, the terms of the promissory notes allow for the option to repay with stock of the company.\n",
    "- (7) **'Other'**:Reflects items such as payments for severance, consulting services, relocation costs, tax advances and allowances for employees on international assignment (i.e. housing allowances, cost of living allowances, payments under Enron’s Tax Equalization Program, etc.). May also include payments provided with respect to employment agreements, as well as imputed income amounts for such things as use of corporate aircraft.\n",
    "- (8) Reflects reimbursements of business expenses. May include fees paid for consulting services.\n",
    "(9) Reflects cash payments and/or value of stock grants made in lieu of cash payments to non-employee directors.\n",
    "(10) Reflects amounts from exercised stock options which equal the market value in excess of the exercise price on the date the options were exercised either through cashless (same-day sale), stock swap or cash exercises. The reflected gain may differ from that realized by the insider due to fluctuations in the market price and the timing of any subsequent sale of the securities.\n",
    "(11) Reflects the gross fair market value of shares and accrued dividends (and/or phantom units and dividend equivalents) on the date of release due to lapse of vesting periods, regardless of whether deferred.\n",
    "(12) Reflects value of restricted stock voluntarily deferred prior to release under a deferred compensation arrangement.\n",
    "(13) In 1998, 1999 and 2000, Debtor and non-debtor affiliates were charged for options granted. The Black-Scholes method was used to determine the amount to be charged. Any amounts charged to Debtor and non-debtor affiliates associated with the options exercised related to these three years have not been subtracted from the share value amounts shown."
   ]
  },
  {
   "cell_type": "markdown",
   "metadata": {},
   "source": [
    "## Load Dataset"
   ]
  },
  {
   "cell_type": "code",
   "execution_count": 531,
   "metadata": {
    "collapsed": true
   },
   "outputs": [],
   "source": [
    "with open(\"final_project_dataset.pkl\", \"r\") as data_file:\n",
    "    data_dict = pickle.load(data_file)"
   ]
  },
  {
   "cell_type": "markdown",
   "metadata": {},
   "source": [
    "### Understanding the Original Data"
   ]
  },
  {
   "cell_type": "code",
   "execution_count": 532,
   "metadata": {
    "collapsed": true
   },
   "outputs": [],
   "source": [
    "# data_dict.pop(\"TOTAL\")\n",
    "# print \"New dictionary has {} keys\".format(str(len(data_dict.keys())))"
   ]
  },
  {
   "cell_type": "code",
   "execution_count": 533,
   "metadata": {
    "collapsed": false
   },
   "outputs": [
    {
     "name": "stdout",
     "output_type": "stream",
     "text": [
      "Original dictionary has 146 keys\n"
     ]
    }
   ],
   "source": [
    "# sorted(data_dict.keys()) # there is one key called \"TOTAL\", should drop it before any further analysis\n",
    "data_dict.keys()\n",
    "print \"Original dictionary has {} keys\".format(str(len(data_dict.keys())))"
   ]
  },
  {
   "cell_type": "code",
   "execution_count": 534,
   "metadata": {
    "collapsed": false
   },
   "outputs": [
    {
     "data": {
      "text/html": [
       "<div>\n",
       "<table border=\"1\" class=\"dataframe\">\n",
       "  <thead>\n",
       "    <tr style=\"text-align: right;\">\n",
       "      <th></th>\n",
       "      <th>bonus</th>\n",
       "      <th>deferral_payments</th>\n",
       "      <th>deferred_income</th>\n",
       "      <th>director_fees</th>\n",
       "      <th>email_address</th>\n",
       "      <th>exercised_stock_options</th>\n",
       "      <th>expenses</th>\n",
       "      <th>from_messages</th>\n",
       "      <th>from_poi_to_this_person</th>\n",
       "      <th>from_this_person_to_poi</th>\n",
       "      <th>...</th>\n",
       "      <th>long_term_incentive</th>\n",
       "      <th>other</th>\n",
       "      <th>poi</th>\n",
       "      <th>restricted_stock</th>\n",
       "      <th>restricted_stock_deferred</th>\n",
       "      <th>salary</th>\n",
       "      <th>shared_receipt_with_poi</th>\n",
       "      <th>to_messages</th>\n",
       "      <th>total_payments</th>\n",
       "      <th>total_stock_value</th>\n",
       "    </tr>\n",
       "  </thead>\n",
       "  <tbody>\n",
       "    <tr>\n",
       "      <th>count</th>\n",
       "      <td>146</td>\n",
       "      <td>146</td>\n",
       "      <td>146</td>\n",
       "      <td>146</td>\n",
       "      <td>146</td>\n",
       "      <td>146</td>\n",
       "      <td>146</td>\n",
       "      <td>146</td>\n",
       "      <td>146</td>\n",
       "      <td>146</td>\n",
       "      <td>...</td>\n",
       "      <td>146</td>\n",
       "      <td>146</td>\n",
       "      <td>146</td>\n",
       "      <td>146</td>\n",
       "      <td>146</td>\n",
       "      <td>146</td>\n",
       "      <td>146</td>\n",
       "      <td>146</td>\n",
       "      <td>146</td>\n",
       "      <td>146</td>\n",
       "    </tr>\n",
       "    <tr>\n",
       "      <th>unique</th>\n",
       "      <td>42</td>\n",
       "      <td>40</td>\n",
       "      <td>45</td>\n",
       "      <td>18</td>\n",
       "      <td>112</td>\n",
       "      <td>102</td>\n",
       "      <td>95</td>\n",
       "      <td>65</td>\n",
       "      <td>58</td>\n",
       "      <td>42</td>\n",
       "      <td>...</td>\n",
       "      <td>53</td>\n",
       "      <td>93</td>\n",
       "      <td>2</td>\n",
       "      <td>98</td>\n",
       "      <td>19</td>\n",
       "      <td>95</td>\n",
       "      <td>84</td>\n",
       "      <td>87</td>\n",
       "      <td>126</td>\n",
       "      <td>125</td>\n",
       "    </tr>\n",
       "    <tr>\n",
       "      <th>top</th>\n",
       "      <td>NaN</td>\n",
       "      <td>NaN</td>\n",
       "      <td>NaN</td>\n",
       "      <td>NaN</td>\n",
       "      <td>NaN</td>\n",
       "      <td>NaN</td>\n",
       "      <td>NaN</td>\n",
       "      <td>NaN</td>\n",
       "      <td>NaN</td>\n",
       "      <td>NaN</td>\n",
       "      <td>...</td>\n",
       "      <td>NaN</td>\n",
       "      <td>NaN</td>\n",
       "      <td>False</td>\n",
       "      <td>NaN</td>\n",
       "      <td>NaN</td>\n",
       "      <td>NaN</td>\n",
       "      <td>NaN</td>\n",
       "      <td>NaN</td>\n",
       "      <td>NaN</td>\n",
       "      <td>NaN</td>\n",
       "    </tr>\n",
       "    <tr>\n",
       "      <th>freq</th>\n",
       "      <td>64</td>\n",
       "      <td>107</td>\n",
       "      <td>97</td>\n",
       "      <td>129</td>\n",
       "      <td>35</td>\n",
       "      <td>44</td>\n",
       "      <td>51</td>\n",
       "      <td>60</td>\n",
       "      <td>60</td>\n",
       "      <td>60</td>\n",
       "      <td>...</td>\n",
       "      <td>80</td>\n",
       "      <td>53</td>\n",
       "      <td>128</td>\n",
       "      <td>36</td>\n",
       "      <td>128</td>\n",
       "      <td>51</td>\n",
       "      <td>60</td>\n",
       "      <td>60</td>\n",
       "      <td>21</td>\n",
       "      <td>20</td>\n",
       "    </tr>\n",
       "  </tbody>\n",
       "</table>\n",
       "<p>4 rows × 21 columns</p>\n",
       "</div>"
      ],
      "text/plain": [
       "       bonus deferral_payments deferred_income director_fees email_address  \\\n",
       "count    146               146             146           146           146   \n",
       "unique    42                40              45            18           112   \n",
       "top      NaN               NaN             NaN           NaN           NaN   \n",
       "freq      64               107              97           129            35   \n",
       "\n",
       "       exercised_stock_options expenses from_messages from_poi_to_this_person  \\\n",
       "count                      146      146           146                     146   \n",
       "unique                     102       95            65                      58   \n",
       "top                        NaN      NaN           NaN                     NaN   \n",
       "freq                        44       51            60                      60   \n",
       "\n",
       "       from_this_person_to_poi        ...        long_term_incentive other  \\\n",
       "count                      146        ...                        146   146   \n",
       "unique                      42        ...                         53    93   \n",
       "top                        NaN        ...                        NaN   NaN   \n",
       "freq                        60        ...                         80    53   \n",
       "\n",
       "          poi restricted_stock restricted_stock_deferred salary  \\\n",
       "count     146              146                       146    146   \n",
       "unique      2               98                        19     95   \n",
       "top     False              NaN                       NaN    NaN   \n",
       "freq      128               36                       128     51   \n",
       "\n",
       "       shared_receipt_with_poi to_messages total_payments total_stock_value  \n",
       "count                      146         146            146               146  \n",
       "unique                      84          87            126               125  \n",
       "top                        NaN         NaN            NaN               NaN  \n",
       "freq                        60          60             21                20  \n",
       "\n",
       "[4 rows x 21 columns]"
      ]
     },
     "execution_count": 534,
     "metadata": {},
     "output_type": "execute_result"
    }
   ],
   "source": [
    "# transfer the dictionary into dataframe\n",
    "data = pd.DataFrame(data_dict).T\n",
    "data.describe()"
   ]
  },
  {
   "cell_type": "code",
   "execution_count": 535,
   "metadata": {
    "collapsed": false
   },
   "outputs": [
    {
     "name": "stdout",
     "output_type": "stream",
     "text": [
      "Original data contains 146 datapoints with 21 features for each\n"
     ]
    },
    {
     "data": {
      "text/html": [
       "<div>\n",
       "<table border=\"1\" class=\"dataframe\">\n",
       "  <thead>\n",
       "    <tr style=\"text-align: right;\">\n",
       "      <th></th>\n",
       "      <th>bonus</th>\n",
       "      <th>deferral_payments</th>\n",
       "      <th>deferred_income</th>\n",
       "      <th>director_fees</th>\n",
       "      <th>email_address</th>\n",
       "      <th>exercised_stock_options</th>\n",
       "      <th>expenses</th>\n",
       "      <th>from_messages</th>\n",
       "      <th>from_poi_to_this_person</th>\n",
       "      <th>from_this_person_to_poi</th>\n",
       "      <th>...</th>\n",
       "      <th>long_term_incentive</th>\n",
       "      <th>other</th>\n",
       "      <th>poi</th>\n",
       "      <th>restricted_stock</th>\n",
       "      <th>restricted_stock_deferred</th>\n",
       "      <th>salary</th>\n",
       "      <th>shared_receipt_with_poi</th>\n",
       "      <th>to_messages</th>\n",
       "      <th>total_payments</th>\n",
       "      <th>total_stock_value</th>\n",
       "    </tr>\n",
       "  </thead>\n",
       "  <tbody>\n",
       "    <tr>\n",
       "      <th>ALLEN PHILLIP K</th>\n",
       "      <td>4175000</td>\n",
       "      <td>2869717</td>\n",
       "      <td>-3081055</td>\n",
       "      <td>NaN</td>\n",
       "      <td>phillip.allen@enron.com</td>\n",
       "      <td>1729541</td>\n",
       "      <td>13868</td>\n",
       "      <td>2195</td>\n",
       "      <td>47</td>\n",
       "      <td>65</td>\n",
       "      <td>...</td>\n",
       "      <td>304805</td>\n",
       "      <td>152</td>\n",
       "      <td>False</td>\n",
       "      <td>126027</td>\n",
       "      <td>-126027</td>\n",
       "      <td>201955</td>\n",
       "      <td>1407</td>\n",
       "      <td>2902</td>\n",
       "      <td>4484442</td>\n",
       "      <td>1729541</td>\n",
       "    </tr>\n",
       "    <tr>\n",
       "      <th>BADUM JAMES P</th>\n",
       "      <td>NaN</td>\n",
       "      <td>178980</td>\n",
       "      <td>NaN</td>\n",
       "      <td>NaN</td>\n",
       "      <td>NaN</td>\n",
       "      <td>257817</td>\n",
       "      <td>3486</td>\n",
       "      <td>NaN</td>\n",
       "      <td>NaN</td>\n",
       "      <td>NaN</td>\n",
       "      <td>...</td>\n",
       "      <td>NaN</td>\n",
       "      <td>NaN</td>\n",
       "      <td>False</td>\n",
       "      <td>NaN</td>\n",
       "      <td>NaN</td>\n",
       "      <td>NaN</td>\n",
       "      <td>NaN</td>\n",
       "      <td>NaN</td>\n",
       "      <td>182466</td>\n",
       "      <td>257817</td>\n",
       "    </tr>\n",
       "  </tbody>\n",
       "</table>\n",
       "<p>2 rows × 21 columns</p>\n",
       "</div>"
      ],
      "text/plain": [
       "                   bonus deferral_payments deferred_income director_fees  \\\n",
       "ALLEN PHILLIP K  4175000           2869717        -3081055           NaN   \n",
       "BADUM JAMES P        NaN            178980             NaN           NaN   \n",
       "\n",
       "                           email_address exercised_stock_options expenses  \\\n",
       "ALLEN PHILLIP K  phillip.allen@enron.com                 1729541    13868   \n",
       "BADUM JAMES P                        NaN                  257817     3486   \n",
       "\n",
       "                from_messages from_poi_to_this_person from_this_person_to_poi  \\\n",
       "ALLEN PHILLIP K          2195                      47                      65   \n",
       "BADUM JAMES P             NaN                     NaN                     NaN   \n",
       "\n",
       "                       ...        long_term_incentive other    poi  \\\n",
       "ALLEN PHILLIP K        ...                     304805   152  False   \n",
       "BADUM JAMES P          ...                        NaN   NaN  False   \n",
       "\n",
       "                restricted_stock restricted_stock_deferred  salary  \\\n",
       "ALLEN PHILLIP K           126027                   -126027  201955   \n",
       "BADUM JAMES P                NaN                       NaN     NaN   \n",
       "\n",
       "                shared_receipt_with_poi to_messages total_payments  \\\n",
       "ALLEN PHILLIP K                    1407        2902        4484442   \n",
       "BADUM JAMES P                       NaN         NaN         182466   \n",
       "\n",
       "                total_stock_value  \n",
       "ALLEN PHILLIP K           1729541  \n",
       "BADUM JAMES P              257817  \n",
       "\n",
       "[2 rows x 21 columns]"
      ]
     },
     "execution_count": 535,
     "metadata": {},
     "output_type": "execute_result"
    }
   ],
   "source": [
    "print \"Original data contains {} datapoints with {} features for each\".format(data.shape[0],\\\n",
    "                                                                             data.shape[1])\n",
    "data.head(2)"
   ]
  },
  {
   "cell_type": "markdown",
   "metadata": {},
   "source": [
    "### Data Cleaning"
   ]
  },
  {
   "cell_type": "code",
   "execution_count": 536,
   "metadata": {
    "collapsed": false
   },
   "outputs": [
    {
     "name": "stdout",
     "output_type": "stream",
     "text": [
      "bonus                           NaN\n",
      "deferral_payments               NaN\n",
      "deferred_income                 NaN\n",
      "director_fees                   NaN\n",
      "email_address                   NaN\n",
      "exercised_stock_options         NaN\n",
      "expenses                        NaN\n",
      "from_messages                   NaN\n",
      "from_poi_to_this_person         NaN\n",
      "from_this_person_to_poi         NaN\n",
      "loan_advances                   NaN\n",
      "long_term_incentive             NaN\n",
      "other                        362096\n",
      "poi                           False\n",
      "restricted_stock                NaN\n",
      "restricted_stock_deferred       NaN\n",
      "salary                          NaN\n",
      "shared_receipt_with_poi         NaN\n",
      "to_messages                     NaN\n",
      "total_payments               362096\n",
      "total_stock_value               NaN\n",
      "Name: THE TRAVEL AGENCY IN THE PARK, dtype: object\n",
      "##########\n",
      "bonus                         97343619\n",
      "deferral_payments             32083396\n",
      "deferred_income              -27992891\n",
      "director_fees                  1398517\n",
      "email_address                      NaN\n",
      "exercised_stock_options      311764000\n",
      "expenses                       5235198\n",
      "from_messages                      NaN\n",
      "from_poi_to_this_person            NaN\n",
      "from_this_person_to_poi            NaN\n",
      "loan_advances                 83925000\n",
      "long_term_incentive           48521928\n",
      "other                         42667589\n",
      "poi                              False\n",
      "restricted_stock             130322299\n",
      "restricted_stock_deferred     -7576788\n",
      "salary                        26704229\n",
      "shared_receipt_with_poi            NaN\n",
      "to_messages                        NaN\n",
      "total_payments               309886585\n",
      "total_stock_value            434509511\n",
      "Name: TOTAL, dtype: object\n"
     ]
    }
   ],
   "source": [
    "# check suspious index other than people's name\n",
    "print data.loc['THE TRAVEL AGENCY IN THE PARK']\n",
    "print \"##########\"\n",
    "print data.loc['TOTAL']"
   ]
  },
  {
   "cell_type": "markdown",
   "metadata": {},
   "source": [
    "- 146 datapoint(people), 21 attributes for each person\n",
    "- 'TOTAL' sums the total cost in each column, which is definitely not a poi, so drop it.\n",
    "- 'THE AGENT IN THE PARK'is not a person's name, however, it could be a poi, so keep it.\n",
    "- For \"poi\", 128 \"False\" out of 146 datapoints, the dataset is highly unbalanced. There are only 18 \"poi\"s.\n",
    "- \"email_address\" looks like with little contribution to predict poi or not at this point\n",
    "- Those column names tell story, e.g. \"total_stock_value\" should be highly correlated with \"restricted_stock\" and \"restricted_stock_deferred\". A coorelation study will be conducted later.\n",
    "\n",
    "\n",
    "More detailed column and index information are in need regarding dataset abnormalities study"
   ]
  },
  {
   "cell_type": "code",
   "execution_count": 537,
   "metadata": {
    "collapsed": false
   },
   "outputs": [
    {
     "data": {
      "text/plain": [
       "(145, 21)"
      ]
     },
     "execution_count": 537,
     "metadata": {},
     "output_type": "execute_result"
    }
   ],
   "source": [
    "data.drop('TOTAL', inplace = True)\n",
    "data.shape"
   ]
  },
  {
   "cell_type": "markdown",
   "metadata": {},
   "source": [
    "### check feature values one-by-one "
   ]
  },
  {
   "cell_type": "code",
   "execution_count": 538,
   "metadata": {
    "collapsed": false
   },
   "outputs": [
    {
     "data": {
      "text/plain": [
       "array(['bonus', 'deferral_payments', 'deferred_income', 'director_fees',\n",
       "       'email_address', 'exercised_stock_options', 'expenses',\n",
       "       'from_messages', 'from_poi_to_this_person',\n",
       "       'from_this_person_to_poi', 'loan_advances', 'long_term_incentive',\n",
       "       'other', 'poi', 'restricted_stock', 'restricted_stock_deferred',\n",
       "       'salary', 'shared_receipt_with_poi', 'to_messages',\n",
       "       'total_payments', 'total_stock_value'], dtype=object)"
      ]
     },
     "execution_count": 538,
     "metadata": {},
     "output_type": "execute_result"
    }
   ],
   "source": [
    "data.columns.values"
   ]
  },
  {
   "cell_type": "markdown",
   "metadata": {},
   "source": [
    "#### Value with Wrong Sign "
   ]
  },
  {
   "cell_type": "markdown",
   "metadata": {},
   "source": [
    "Two columns **'deferred_income'** and **'restricted_stock_deferred'** should be negative value. Others should be postive value. \n",
    "\n",
    "Wrong sign might be resulted from logging mistake, formatting or version conflicting. In large dataset, small size of wrong size data make no great difference. Since this dataset only has 147 X 21 dataframe, we need to correct it."
   ]
  },
  {
   "cell_type": "code",
   "execution_count": 539,
   "metadata": {
    "collapsed": false
   },
   "outputs": [],
   "source": [
    "def print_sign(feature, sign, correction = False):\n",
    "    for index in data.index:\n",
    "        v = data.loc[index, feature]\n",
    "        if sign == \"positive\":\n",
    "            if v != \"NaN\" and v > 0:\n",
    "                print \"'{}' shows feature '{}' as {} with wrong sign, \\\n",
    "                should be 'negative'\".format(index,feature, v)\n",
    "                if correction:\n",
    "                    data.loc[index, feature] = - v\n",
    "                    print \"'{}' has correct value {} in '{}'\".format\\\n",
    "                    (index, data.loc[index, feature], feature)\n",
    "                    print \"\"\n",
    "                    print \"\"\n",
    "                    \n",
    "            \n",
    "        elif sign == \"negative\":\n",
    "            if v != \"NaN\" and v < 0:\n",
    "                print \"'{}' shows feature '{}' as {} with wrong sign, \\\n",
    "                should be 'positive'\".format(index,feature, v) \n",
    "                if correction:\n",
    "                    data.loc[index, feature] = - v\n",
    "                    print \"'{}' has correct value {} in '{}'\".format\\\n",
    "                    (index, data.loc[index, feature], feature)\n",
    "                    print \"\"\n",
    "                    print \"\""
   ]
  },
  {
   "cell_type": "code",
   "execution_count": 540,
   "metadata": {
    "collapsed": false
   },
   "outputs": [
    {
     "name": "stdout",
     "output_type": "stream",
     "text": [
      "<type 'list'>\n"
     ]
    }
   ],
   "source": [
    "# generate positive and negative list\n",
    "negative_list = ['deferred_income', 'restricted_stock_deferred']\n",
    "positive_list = data.columns.values.tolist()\n",
    "\n",
    "print type(positive_list)\n",
    "\n",
    "positive_list.remove('deferred_income')\n",
    "positive_list.remove('restricted_stock_deferred')"
   ]
  },
  {
   "cell_type": "code",
   "execution_count": 541,
   "metadata": {
    "collapsed": false
   },
   "outputs": [
    {
     "name": "stdout",
     "output_type": "stream",
     "text": [
      "'BELFER ROBERT' shows feature 'restricted_stock_deferred' as 44093 with wrong sign,                 should be 'negative'\n",
      "'BELFER ROBERT' has correct value -44093 in 'restricted_stock_deferred'\n",
      "\n",
      "\n",
      "'BHATNAGAR SANJAY' shows feature 'restricted_stock_deferred' as 15456290 with wrong sign,                 should be 'negative'\n",
      "'BHATNAGAR SANJAY' has correct value -15456290 in 'restricted_stock_deferred'\n",
      "\n",
      "\n",
      "'BELFER ROBERT' shows feature 'deferral_payments' as -102500 with wrong sign,                 should be 'positive'\n",
      "'BELFER ROBERT' has correct value 102500 in 'deferral_payments'\n",
      "\n",
      "\n",
      "'BHATNAGAR SANJAY' shows feature 'restricted_stock' as -2604490 with wrong sign,                 should be 'positive'\n",
      "'BHATNAGAR SANJAY' has correct value 2604490 in 'restricted_stock'\n",
      "\n",
      "\n",
      "'BELFER ROBERT' shows feature 'total_stock_value' as -44093 with wrong sign,                 should be 'positive'\n",
      "'BELFER ROBERT' has correct value 44093 in 'total_stock_value'\n",
      "\n",
      "\n"
     ]
    }
   ],
   "source": [
    "# check wrong sign and correct them\n",
    "for feature in negative_list:\n",
    "    print_sign(feature, \"positive\", correction = True)\n",
    "\n",
    "for feature in positive_list:\n",
    "    print_sign(feature, \"negative\", correction = True)"
   ]
  },
  {
   "cell_type": "code",
   "execution_count": 542,
   "metadata": {
    "collapsed": false
   },
   "outputs": [],
   "source": [
    "# # drop unecessary values\n",
    "# dless = data.drop('email_address', 1)\n",
    "# print len(data.columns)\n",
    "# print len(dless.columns)\n",
    "# print type(dless)\n",
    "# print dless.columns.values"
   ]
  },
  {
   "cell_type": "code",
   "execution_count": 543,
   "metadata": {
    "collapsed": false
   },
   "outputs": [],
   "source": [
    "# def print_type(df):\n",
    "#     for col in df.columns.values:\n",
    "#         print col, type(df[col][0])\n",
    "# print_type(dless)"
   ]
  },
  {
   "cell_type": "markdown",
   "metadata": {},
   "source": [
    "Two features are shown as \"str\", because they have too many \"NaN\". From later analysi, we could find that \"director_fees\" has 129 \"NaN\"s, \"loan_advances\" has 142 \"NaN\"s."
   ]
  },
  {
   "cell_type": "code",
   "execution_count": 544,
   "metadata": {
    "collapsed": false
   },
   "outputs": [],
   "source": [
    "# # check features with shown as \"str\" and \"bool\" type\n",
    "# print dless[dless[\"director_fees\"] != \"NaN\"][\"director_fees\"]\n",
    "# print type(dless.loc[\"BELFER ROBERT\",\"director_fees\"]) \n",
    "# print \"###################\"\n",
    "# print dless[dless[\"loan_advances\"] != \"NaN\"][\"loan_advances\"]\n",
    "# print type(dless.loc[\"FREVERT MARK A\",\"loan_advances\"]) "
   ]
  },
  {
   "cell_type": "code",
   "execution_count": 545,
   "metadata": {
    "collapsed": false
   },
   "outputs": [],
   "source": [
    "# # drop this two features\n",
    "# dless = dless.drop([\"director_fees\", \"loan_advances\", \"restricted_stock_deferred\",\"poi\"], 1)\n",
    "# dless.shape"
   ]
  },
  {
   "cell_type": "markdown",
   "metadata": {},
   "source": [
    "Here, we will use Tukey's Method for identifying outliers: An outlier step is calculated as 1.5 times the interquartile range (IQR). A data point with a feature that is beyond an outlier step outside of the IQR for that feature is considered abnormal."
   ]
  },
  {
   "cell_type": "code",
   "execution_count": 546,
   "metadata": {
    "collapsed": false
   },
   "outputs": [],
   "source": [
    "# for feature in dless.columns.values:\n",
    "#     Q1 = np.percentile(dless[feature], 25)\n",
    "#     Q3 = np.percentile(dless[feature], 25)\n",
    "    \n",
    "#     step = 1.5 * (Q3 - Q1)\n",
    "#     print \"Data points considered outliers for the feature '{}':\".format(feature)\n",
    "#     display(dless[~((dless[feature] >= Q1 - step) & (dless[feature] <= Q3 + step))])"
   ]
  },
  {
   "cell_type": "markdown",
   "metadata": {},
   "source": [
    "### Allocation POI/non-POI "
   ]
  },
  {
   "cell_type": "code",
   "execution_count": 547,
   "metadata": {
    "collapsed": false
   },
   "outputs": [
    {
     "name": "stdout",
     "output_type": "stream",
     "text": [
      "################\n",
      "The original dataset contains:\n",
      "#18 poi\n",
      "#127 non-poi\n"
     ]
    }
   ],
   "source": [
    "poi = data[data.poi == True]\n",
    "non_poi = data[data.poi == False]\n",
    "print \"################\"\n",
    "print \"The original dataset contains:\"\n",
    "print \"#{} poi\".format(len(poi.index))\n",
    "print \"#{} non-poi\".format(len(non_poi.index))\n",
    "# data_zero = data.replace(to_replace = 'NaN', value = 0)\n",
    "# data_zero.describe()"
   ]
  },
  {
   "cell_type": "markdown",
   "metadata": {},
   "source": [
    "### Missing Values "
   ]
  },
  {
   "cell_type": "code",
   "execution_count": 548,
   "metadata": {
    "collapsed": false
   },
   "outputs": [
    {
     "name": "stdout",
     "output_type": "stream",
     "text": [
      "['bonus' 'deferral_payments' 'deferred_income' 'director_fees'\n",
      " 'email_address' 'exercised_stock_options' 'expenses' 'from_messages'\n",
      " 'from_poi_to_this_person' 'from_this_person_to_poi' 'loan_advances'\n",
      " 'long_term_incentive' 'other' 'poi' 'restricted_stock'\n",
      " 'restricted_stock_deferred' 'salary' 'shared_receipt_with_poi'\n",
      " 'to_messages' 'total_payments' 'total_stock_value']\n"
     ]
    }
   ],
   "source": [
    "# data.describe()\n",
    "feature = data.columns.values\n",
    "print feature"
   ]
  },
  {
   "cell_type": "code",
   "execution_count": 549,
   "metadata": {
    "collapsed": false
   },
   "outputs": [
    {
     "name": "stdout",
     "output_type": "stream",
     "text": [
      "145 18 127\n"
     ]
    },
    {
     "name": "stderr",
     "output_type": "stream",
     "text": [
      "/anaconda/lib/python2.7/site-packages/ipykernel/__main__.py:18: UserWarning: Boolean Series key will be reindexed to match DataFrame index.\n",
      "/anaconda/lib/python2.7/site-packages/ipykernel/__main__.py:19: UserWarning: Boolean Series key will be reindexed to match DataFrame index.\n",
      "/anaconda/lib/python2.7/site-packages/ipykernel/__main__.py:22: UserWarning: Boolean Series key will be reindexed to match DataFrame index.\n",
      "/anaconda/lib/python2.7/site-packages/ipykernel/__main__.py:23: UserWarning: Boolean Series key will be reindexed to match DataFrame index.\n"
     ]
    },
    {
     "data": {
      "text/html": [
       "<div>\n",
       "<table border=\"1\" class=\"dataframe\">\n",
       "  <thead>\n",
       "    <tr style=\"text-align: right;\">\n",
       "      <th></th>\n",
       "      <th>feature</th>\n",
       "      <th>nonpoi_null</th>\n",
       "      <th>nonpoi_r</th>\n",
       "      <th>poi_null</th>\n",
       "      <th>poi_r</th>\n",
       "      <th>total_null</th>\n",
       "      <th>total_r</th>\n",
       "    </tr>\n",
       "  </thead>\n",
       "  <tbody>\n",
       "    <tr>\n",
       "      <th>0</th>\n",
       "      <td>bonus</td>\n",
       "      <td>62</td>\n",
       "      <td>0.4882</td>\n",
       "      <td>2</td>\n",
       "      <td>0.1111</td>\n",
       "      <td>64</td>\n",
       "      <td>0.4414</td>\n",
       "    </tr>\n",
       "    <tr>\n",
       "      <th>1</th>\n",
       "      <td>deferral_payments</td>\n",
       "      <td>94</td>\n",
       "      <td>0.7402</td>\n",
       "      <td>13</td>\n",
       "      <td>0.7222</td>\n",
       "      <td>107</td>\n",
       "      <td>0.7379</td>\n",
       "    </tr>\n",
       "    <tr>\n",
       "      <th>2</th>\n",
       "      <td>deferred_income</td>\n",
       "      <td>90</td>\n",
       "      <td>0.7087</td>\n",
       "      <td>7</td>\n",
       "      <td>0.3889</td>\n",
       "      <td>97</td>\n",
       "      <td>0.6690</td>\n",
       "    </tr>\n",
       "    <tr>\n",
       "      <th>3</th>\n",
       "      <td>director_fees</td>\n",
       "      <td>111</td>\n",
       "      <td>0.8740</td>\n",
       "      <td>18</td>\n",
       "      <td>1.0000</td>\n",
       "      <td>129</td>\n",
       "      <td>0.8897</td>\n",
       "    </tr>\n",
       "    <tr>\n",
       "      <th>4</th>\n",
       "      <td>email_address</td>\n",
       "      <td>34</td>\n",
       "      <td>0.2677</td>\n",
       "      <td>0</td>\n",
       "      <td>0.0000</td>\n",
       "      <td>34</td>\n",
       "      <td>0.2345</td>\n",
       "    </tr>\n",
       "    <tr>\n",
       "      <th>5</th>\n",
       "      <td>exercised_stock_options</td>\n",
       "      <td>38</td>\n",
       "      <td>0.2992</td>\n",
       "      <td>6</td>\n",
       "      <td>0.3333</td>\n",
       "      <td>44</td>\n",
       "      <td>0.3034</td>\n",
       "    </tr>\n",
       "    <tr>\n",
       "      <th>6</th>\n",
       "      <td>expenses</td>\n",
       "      <td>51</td>\n",
       "      <td>0.4016</td>\n",
       "      <td>0</td>\n",
       "      <td>0.0000</td>\n",
       "      <td>51</td>\n",
       "      <td>0.3517</td>\n",
       "    </tr>\n",
       "    <tr>\n",
       "      <th>7</th>\n",
       "      <td>from_messages</td>\n",
       "      <td>55</td>\n",
       "      <td>0.4331</td>\n",
       "      <td>4</td>\n",
       "      <td>0.2222</td>\n",
       "      <td>59</td>\n",
       "      <td>0.4069</td>\n",
       "    </tr>\n",
       "    <tr>\n",
       "      <th>8</th>\n",
       "      <td>from_poi_to_this_person</td>\n",
       "      <td>55</td>\n",
       "      <td>0.4331</td>\n",
       "      <td>4</td>\n",
       "      <td>0.2222</td>\n",
       "      <td>59</td>\n",
       "      <td>0.4069</td>\n",
       "    </tr>\n",
       "    <tr>\n",
       "      <th>9</th>\n",
       "      <td>from_this_person_to_poi</td>\n",
       "      <td>55</td>\n",
       "      <td>0.4331</td>\n",
       "      <td>4</td>\n",
       "      <td>0.2222</td>\n",
       "      <td>59</td>\n",
       "      <td>0.4069</td>\n",
       "    </tr>\n",
       "    <tr>\n",
       "      <th>10</th>\n",
       "      <td>loan_advances</td>\n",
       "      <td>125</td>\n",
       "      <td>0.9843</td>\n",
       "      <td>17</td>\n",
       "      <td>0.9444</td>\n",
       "      <td>142</td>\n",
       "      <td>0.9793</td>\n",
       "    </tr>\n",
       "    <tr>\n",
       "      <th>11</th>\n",
       "      <td>long_term_incentive</td>\n",
       "      <td>74</td>\n",
       "      <td>0.5827</td>\n",
       "      <td>6</td>\n",
       "      <td>0.3333</td>\n",
       "      <td>80</td>\n",
       "      <td>0.5517</td>\n",
       "    </tr>\n",
       "    <tr>\n",
       "      <th>12</th>\n",
       "      <td>other</td>\n",
       "      <td>53</td>\n",
       "      <td>0.4173</td>\n",
       "      <td>0</td>\n",
       "      <td>0.0000</td>\n",
       "      <td>53</td>\n",
       "      <td>0.3655</td>\n",
       "    </tr>\n",
       "    <tr>\n",
       "      <th>13</th>\n",
       "      <td>poi</td>\n",
       "      <td>0</td>\n",
       "      <td>0.0000</td>\n",
       "      <td>0</td>\n",
       "      <td>0.0000</td>\n",
       "      <td>0</td>\n",
       "      <td>0.0000</td>\n",
       "    </tr>\n",
       "    <tr>\n",
       "      <th>14</th>\n",
       "      <td>restricted_stock</td>\n",
       "      <td>35</td>\n",
       "      <td>0.2756</td>\n",
       "      <td>1</td>\n",
       "      <td>0.0556</td>\n",
       "      <td>36</td>\n",
       "      <td>0.2483</td>\n",
       "    </tr>\n",
       "    <tr>\n",
       "      <th>15</th>\n",
       "      <td>restricted_stock_deferred</td>\n",
       "      <td>110</td>\n",
       "      <td>0.8661</td>\n",
       "      <td>18</td>\n",
       "      <td>1.0000</td>\n",
       "      <td>128</td>\n",
       "      <td>0.8828</td>\n",
       "    </tr>\n",
       "    <tr>\n",
       "      <th>16</th>\n",
       "      <td>salary</td>\n",
       "      <td>50</td>\n",
       "      <td>0.3937</td>\n",
       "      <td>1</td>\n",
       "      <td>0.0556</td>\n",
       "      <td>51</td>\n",
       "      <td>0.3517</td>\n",
       "    </tr>\n",
       "    <tr>\n",
       "      <th>17</th>\n",
       "      <td>shared_receipt_with_poi</td>\n",
       "      <td>55</td>\n",
       "      <td>0.4331</td>\n",
       "      <td>4</td>\n",
       "      <td>0.2222</td>\n",
       "      <td>59</td>\n",
       "      <td>0.4069</td>\n",
       "    </tr>\n",
       "    <tr>\n",
       "      <th>18</th>\n",
       "      <td>to_messages</td>\n",
       "      <td>55</td>\n",
       "      <td>0.4331</td>\n",
       "      <td>4</td>\n",
       "      <td>0.2222</td>\n",
       "      <td>59</td>\n",
       "      <td>0.4069</td>\n",
       "    </tr>\n",
       "    <tr>\n",
       "      <th>19</th>\n",
       "      <td>total_payments</td>\n",
       "      <td>21</td>\n",
       "      <td>0.1654</td>\n",
       "      <td>0</td>\n",
       "      <td>0.0000</td>\n",
       "      <td>21</td>\n",
       "      <td>0.1448</td>\n",
       "    </tr>\n",
       "    <tr>\n",
       "      <th>20</th>\n",
       "      <td>total_stock_value</td>\n",
       "      <td>20</td>\n",
       "      <td>0.1575</td>\n",
       "      <td>0</td>\n",
       "      <td>0.0000</td>\n",
       "      <td>20</td>\n",
       "      <td>0.1379</td>\n",
       "    </tr>\n",
       "  </tbody>\n",
       "</table>\n",
       "</div>"
      ],
      "text/plain": [
       "                      feature  nonpoi_null nonpoi_r  poi_null   poi_r  \\\n",
       "0                       bonus           62   0.4882         2  0.1111   \n",
       "1           deferral_payments           94   0.7402        13  0.7222   \n",
       "2             deferred_income           90   0.7087         7  0.3889   \n",
       "3               director_fees          111   0.8740        18  1.0000   \n",
       "4               email_address           34   0.2677         0  0.0000   \n",
       "5     exercised_stock_options           38   0.2992         6  0.3333   \n",
       "6                    expenses           51   0.4016         0  0.0000   \n",
       "7               from_messages           55   0.4331         4  0.2222   \n",
       "8     from_poi_to_this_person           55   0.4331         4  0.2222   \n",
       "9     from_this_person_to_poi           55   0.4331         4  0.2222   \n",
       "10              loan_advances          125   0.9843        17  0.9444   \n",
       "11        long_term_incentive           74   0.5827         6  0.3333   \n",
       "12                      other           53   0.4173         0  0.0000   \n",
       "13                        poi            0   0.0000         0  0.0000   \n",
       "14           restricted_stock           35   0.2756         1  0.0556   \n",
       "15  restricted_stock_deferred          110   0.8661        18  1.0000   \n",
       "16                     salary           50   0.3937         1  0.0556   \n",
       "17    shared_receipt_with_poi           55   0.4331         4  0.2222   \n",
       "18                to_messages           55   0.4331         4  0.2222   \n",
       "19             total_payments           21   0.1654         0  0.0000   \n",
       "20          total_stock_value           20   0.1575         0  0.0000   \n",
       "\n",
       "    total_null total_r  \n",
       "0           64  0.4414  \n",
       "1          107  0.7379  \n",
       "2           97  0.6690  \n",
       "3          129  0.8897  \n",
       "4           34  0.2345  \n",
       "5           44  0.3034  \n",
       "6           51  0.3517  \n",
       "7           59  0.4069  \n",
       "8           59  0.4069  \n",
       "9           59  0.4069  \n",
       "10         142  0.9793  \n",
       "11          80  0.5517  \n",
       "12          53  0.3655  \n",
       "13           0  0.0000  \n",
       "14          36  0.2483  \n",
       "15         128  0.8828  \n",
       "16          51  0.3517  \n",
       "17          59  0.4069  \n",
       "18          59  0.4069  \n",
       "19          21  0.1448  \n",
       "20          20  0.1379  "
      ]
     },
     "execution_count": 549,
     "metadata": {},
     "output_type": "execute_result"
    }
   ],
   "source": [
    "############# \n",
    "# Missing value allocation\n",
    "total_num = len(data['poi'])\n",
    "poi_num = len(data[data.poi == True]['poi'])\n",
    "nonpoi_num = len(data[data.poi == False]['poi'])\n",
    "print total_num, poi_num, nonpoi_num\n",
    "\n",
    "total_null = []\n",
    "poi_null = []\n",
    "nonpoi_null = []\n",
    "\n",
    "total_r = []\n",
    "poi_r = []\n",
    "nonpoi_r = []\n",
    "\n",
    "for col in data.columns:\n",
    "    total_null.append(len(data[data[col] == 'NaN']))\n",
    "    poi_null.append(len(data[data[col] == 'NaN'][data.poi == True]))\n",
    "    nonpoi_null.append(len(data[data[col] == 'NaN'][data.poi == False]))\n",
    "\n",
    "    t_r = len(data[data[col] == 'NaN']) / float(total_num)\n",
    "    p_r = len(data[data[col] == 'NaN'][data.poi == True]) / float(poi_num)\n",
    "    np_r = len(data[data[col] == 'NaN'][data.poi == False]) / \\\n",
    "    float(nonpoi_num)\n",
    "    total_r.append(\"{0:.4f}\".format(t_r))\n",
    "    poi_r.append(\"{0:.4f}\".format(p_r))\n",
    "    nonpoi_r.append(\"{0:.4f}\".format(np_r))\n",
    "\n",
    "count_null = pd.DataFrame(dict(feature = feature, total_null = total_null,\\\n",
    "                               poi_null = poi_null, nonpoi_null = \\\n",
    "                               nonpoi_null, total_r = total_r, poi_r = \\\n",
    "                               poi_r, nonpoi_r = nonpoi_r))\n",
    "count_null"
   ]
  },
  {
   "cell_type": "code",
   "execution_count": 550,
   "metadata": {
    "collapsed": false
   },
   "outputs": [],
   "source": [
    "def null_filter(perct):\n",
    "    '''\n",
    "    inputs the satisfied maximum percentage of missing value out of total \n",
    "    value counts for a specific feature,\n",
    "    returns names of satisfied features with missing value less than the \n",
    "    input percentage\n",
    "    '''\n",
    "    size = len(data) * perct\n",
    "    l = []\n",
    "    index = []\n",
    "    df = pd.DataFrame()\n",
    "    for i in range(0, len(count_null)):\n",
    "        if count_null.loc[i, \"total_null\"] <= size:\n",
    "            l.append(count_null.loc[i, \"feature\"])\n",
    "            index.append(i)\n",
    "    count = len(l)\n",
    "    print \"{} features in total, including: {}\".format(count, l)\n",
    "    \n",
    "    return count_null.loc[index, :]"
   ]
  },
  {
   "cell_type": "code",
   "execution_count": 551,
   "metadata": {
    "collapsed": false
   },
   "outputs": [
    {
     "name": "stdout",
     "output_type": "stream",
     "text": [
      "5 features in total, including: ['email_address', 'poi', 'restricted_stock', 'total_payments', 'total_stock_value']\n"
     ]
    },
    {
     "data": {
      "text/html": [
       "<div>\n",
       "<table border=\"1\" class=\"dataframe\">\n",
       "  <thead>\n",
       "    <tr style=\"text-align: right;\">\n",
       "      <th></th>\n",
       "      <th>feature</th>\n",
       "      <th>nonpoi_null</th>\n",
       "      <th>nonpoi_r</th>\n",
       "      <th>poi_null</th>\n",
       "      <th>poi_r</th>\n",
       "      <th>total_null</th>\n",
       "      <th>total_r</th>\n",
       "    </tr>\n",
       "  </thead>\n",
       "  <tbody>\n",
       "    <tr>\n",
       "      <th>4</th>\n",
       "      <td>email_address</td>\n",
       "      <td>34</td>\n",
       "      <td>0.2677</td>\n",
       "      <td>0</td>\n",
       "      <td>0.0000</td>\n",
       "      <td>34</td>\n",
       "      <td>0.2345</td>\n",
       "    </tr>\n",
       "    <tr>\n",
       "      <th>13</th>\n",
       "      <td>poi</td>\n",
       "      <td>0</td>\n",
       "      <td>0.0000</td>\n",
       "      <td>0</td>\n",
       "      <td>0.0000</td>\n",
       "      <td>0</td>\n",
       "      <td>0.0000</td>\n",
       "    </tr>\n",
       "    <tr>\n",
       "      <th>14</th>\n",
       "      <td>restricted_stock</td>\n",
       "      <td>35</td>\n",
       "      <td>0.2756</td>\n",
       "      <td>1</td>\n",
       "      <td>0.0556</td>\n",
       "      <td>36</td>\n",
       "      <td>0.2483</td>\n",
       "    </tr>\n",
       "    <tr>\n",
       "      <th>19</th>\n",
       "      <td>total_payments</td>\n",
       "      <td>21</td>\n",
       "      <td>0.1654</td>\n",
       "      <td>0</td>\n",
       "      <td>0.0000</td>\n",
       "      <td>21</td>\n",
       "      <td>0.1448</td>\n",
       "    </tr>\n",
       "    <tr>\n",
       "      <th>20</th>\n",
       "      <td>total_stock_value</td>\n",
       "      <td>20</td>\n",
       "      <td>0.1575</td>\n",
       "      <td>0</td>\n",
       "      <td>0.0000</td>\n",
       "      <td>20</td>\n",
       "      <td>0.1379</td>\n",
       "    </tr>\n",
       "  </tbody>\n",
       "</table>\n",
       "</div>"
      ],
      "text/plain": [
       "              feature  nonpoi_null nonpoi_r  poi_null   poi_r  total_null  \\\n",
       "4       email_address           34   0.2677         0  0.0000          34   \n",
       "13                poi            0   0.0000         0  0.0000           0   \n",
       "14   restricted_stock           35   0.2756         1  0.0556          36   \n",
       "19     total_payments           21   0.1654         0  0.0000          21   \n",
       "20  total_stock_value           20   0.1575         0  0.0000          20   \n",
       "\n",
       "   total_r  \n",
       "4   0.2345  \n",
       "13  0.0000  \n",
       "14  0.2483  \n",
       "19  0.1448  \n",
       "20  0.1379  "
      ]
     },
     "execution_count": 551,
     "metadata": {},
     "output_type": "execute_result"
    }
   ],
   "source": [
    "feature = null_filter(0.25)\n",
    "feature"
   ]
  },
  {
   "cell_type": "code",
   "execution_count": 552,
   "metadata": {
    "collapsed": false
   },
   "outputs": [
    {
     "name": "stdout",
     "output_type": "stream",
     "text": [
      "9 features in total, including: ['email_address', 'exercised_stock_options', 'expenses', 'other', 'poi', 'restricted_stock', 'salary', 'total_payments', 'total_stock_value']\n"
     ]
    },
    {
     "name": "stderr",
     "output_type": "stream",
     "text": [
      "/anaconda/lib/python2.7/site-packages/ipykernel/__main__.py:2: FutureWarning: sort(columns=....) is deprecated, use sort_values(by=.....)\n",
      "  from ipykernel import kernelapp as app\n"
     ]
    },
    {
     "data": {
      "text/html": [
       "<div>\n",
       "<table border=\"1\" class=\"dataframe\">\n",
       "  <thead>\n",
       "    <tr style=\"text-align: right;\">\n",
       "      <th></th>\n",
       "      <th>feature</th>\n",
       "      <th>nonpoi_null</th>\n",
       "      <th>nonpoi_r</th>\n",
       "      <th>poi_null</th>\n",
       "      <th>poi_r</th>\n",
       "      <th>total_null</th>\n",
       "      <th>total_r</th>\n",
       "    </tr>\n",
       "  </thead>\n",
       "  <tbody>\n",
       "    <tr>\n",
       "      <th>13</th>\n",
       "      <td>poi</td>\n",
       "      <td>0</td>\n",
       "      <td>0.0000</td>\n",
       "      <td>0</td>\n",
       "      <td>0.0000</td>\n",
       "      <td>0</td>\n",
       "      <td>0.0000</td>\n",
       "    </tr>\n",
       "    <tr>\n",
       "      <th>20</th>\n",
       "      <td>total_stock_value</td>\n",
       "      <td>20</td>\n",
       "      <td>0.1575</td>\n",
       "      <td>0</td>\n",
       "      <td>0.0000</td>\n",
       "      <td>20</td>\n",
       "      <td>0.1379</td>\n",
       "    </tr>\n",
       "    <tr>\n",
       "      <th>19</th>\n",
       "      <td>total_payments</td>\n",
       "      <td>21</td>\n",
       "      <td>0.1654</td>\n",
       "      <td>0</td>\n",
       "      <td>0.0000</td>\n",
       "      <td>21</td>\n",
       "      <td>0.1448</td>\n",
       "    </tr>\n",
       "    <tr>\n",
       "      <th>4</th>\n",
       "      <td>email_address</td>\n",
       "      <td>34</td>\n",
       "      <td>0.2677</td>\n",
       "      <td>0</td>\n",
       "      <td>0.0000</td>\n",
       "      <td>34</td>\n",
       "      <td>0.2345</td>\n",
       "    </tr>\n",
       "    <tr>\n",
       "      <th>14</th>\n",
       "      <td>restricted_stock</td>\n",
       "      <td>35</td>\n",
       "      <td>0.2756</td>\n",
       "      <td>1</td>\n",
       "      <td>0.0556</td>\n",
       "      <td>36</td>\n",
       "      <td>0.2483</td>\n",
       "    </tr>\n",
       "    <tr>\n",
       "      <th>5</th>\n",
       "      <td>exercised_stock_options</td>\n",
       "      <td>38</td>\n",
       "      <td>0.2992</td>\n",
       "      <td>6</td>\n",
       "      <td>0.3333</td>\n",
       "      <td>44</td>\n",
       "      <td>0.3034</td>\n",
       "    </tr>\n",
       "    <tr>\n",
       "      <th>6</th>\n",
       "      <td>expenses</td>\n",
       "      <td>51</td>\n",
       "      <td>0.4016</td>\n",
       "      <td>0</td>\n",
       "      <td>0.0000</td>\n",
       "      <td>51</td>\n",
       "      <td>0.3517</td>\n",
       "    </tr>\n",
       "    <tr>\n",
       "      <th>16</th>\n",
       "      <td>salary</td>\n",
       "      <td>50</td>\n",
       "      <td>0.3937</td>\n",
       "      <td>1</td>\n",
       "      <td>0.0556</td>\n",
       "      <td>51</td>\n",
       "      <td>0.3517</td>\n",
       "    </tr>\n",
       "    <tr>\n",
       "      <th>12</th>\n",
       "      <td>other</td>\n",
       "      <td>53</td>\n",
       "      <td>0.4173</td>\n",
       "      <td>0</td>\n",
       "      <td>0.0000</td>\n",
       "      <td>53</td>\n",
       "      <td>0.3655</td>\n",
       "    </tr>\n",
       "  </tbody>\n",
       "</table>\n",
       "</div>"
      ],
      "text/plain": [
       "                    feature  nonpoi_null nonpoi_r  poi_null   poi_r  \\\n",
       "13                      poi            0   0.0000         0  0.0000   \n",
       "20        total_stock_value           20   0.1575         0  0.0000   \n",
       "19           total_payments           21   0.1654         0  0.0000   \n",
       "4             email_address           34   0.2677         0  0.0000   \n",
       "14         restricted_stock           35   0.2756         1  0.0556   \n",
       "5   exercised_stock_options           38   0.2992         6  0.3333   \n",
       "6                  expenses           51   0.4016         0  0.0000   \n",
       "16                   salary           50   0.3937         1  0.0556   \n",
       "12                    other           53   0.4173         0  0.0000   \n",
       "\n",
       "    total_null total_r  \n",
       "13           0  0.0000  \n",
       "20          20  0.1379  \n",
       "19          21  0.1448  \n",
       "4           34  0.2345  \n",
       "14          36  0.2483  \n",
       "5           44  0.3034  \n",
       "6           51  0.3517  \n",
       "16          51  0.3517  \n",
       "12          53  0.3655  "
      ]
     },
     "execution_count": 552,
     "metadata": {},
     "output_type": "execute_result"
    }
   ],
   "source": [
    "sub_dict = null_filter(0.4)\n",
    "sub_dict.sort(\"total_null\")"
   ]
  },
  {
   "cell_type": "markdown",
   "metadata": {},
   "source": [
    "for all those features above (exclude poi, email_address), "
   ]
  },
  {
   "cell_type": "code",
   "execution_count": 553,
   "metadata": {
    "collapsed": false
   },
   "outputs": [
    {
     "data": {
      "image/png": "[encoded data removed]",
      "text/plain": [
       "<matplotlib.figure.Figure at 0x1151e2890>"
      ]
     },
     "metadata": {},
     "output_type": "display_data"
    }
   ],
   "source": [
    "#Set general plot properties\n",
    "sns.set_style(\"white\")\n",
    "sns.set_context({\"figure.figsize\": (24, 10)})\n",
    "\n",
    "#Plot 1 - background - \"total\" (top) series\n",
    "sns.barplot(y = count_null.feature, x = count_null.total_null, color = \"blue\")\n",
    "# sns.barplot(x = count_null.feature, y = count_null.total_null, color = \"red\")\n",
    "\n",
    "#Plot 2 - overlay - \"bottom\" series\n",
    "bottom_plot = sns.barplot(y = count_null.feature, x = count_null.poi_null, color = \"red\")\n",
    "# bottom_plot = sns.barplot(x = count_null.feature, y = count_null.poi_null, color = \"#0000A3\", )\n",
    "\n",
    "\n",
    "topbar = plt.Rectangle((0,0),1,1,fc='blue', edgecolor = 'none')\n",
    "bottombar = plt.Rectangle((0,0),1,1,fc=\"red\",  edgecolor = 'none')\n",
    "l = plt.legend([bottombar, topbar], ['POI with Missing Value','Non-POI with Missing Value'], loc= 1, ncol = 2, prop={'size':16})\n",
    "l.draw_frame(False)\n",
    "\n",
    "#Optional code - Make plot look nicer\n",
    "sns.despine(left=True)\n",
    "bottom_plot.set_xlabel(\"Number of Missing Values\")\n",
    "bottom_plot.set_ylabel(\"Features\")\n",
    "bottom_plot.set_title(\"Comparison of 'NaN' Counts Between Whole Group and POI\")\n",
    "\n",
    "#Set fonts to consistent 16pt size\n",
    "for item in ([bottom_plot.xaxis.label, bottom_plot.yaxis.label] +\n",
    "             bottom_plot.get_xticklabels() + bottom_plot.get_yticklabels()):\n",
    "    item.set_fontsize(20)"
   ]
  },
  {
   "cell_type": "code",
   "execution_count": 554,
   "metadata": {
    "collapsed": false
   },
   "outputs": [],
   "source": [
    "# #########################\n",
    "# # Plot Ratio Comparison\n",
    "# #########################\n",
    "# sns.set_style(\"white\")\n",
    "# sns.set_context({\"figure.figsize\": (24, 10)})\n",
    "\n",
    "# #Plot 1 - background - \"total\" (top) series\n",
    "# sns.barplot(y = count_null.feature, x = count_null.total_r, color = \"green\")\n",
    "# # sns.barplot(x = count_null.feature, y = count_null.total_null, color = \"red\")\n",
    "\n",
    "# #Plot 2 - overlay - \"bottom\" series\n",
    "# bottom_plot = sns.barplot(y = count_null.feature, x = count_null.poi_r, color = \"orange\")\n",
    "# # bottom_plot = sns.barplot(x = count_null.feature, y = count_null.poi_null, color = \"#0000A3\")\n",
    "\n",
    "\n",
    "# topbar = plt.Rectangle((0,0),1,1,fc=\"green\", edgecolor = 'none')\n",
    "# bottombar = plt.Rectangle((0,0),1,1,fc='orange',  edgecolor = 'none')\n",
    "# l = plt.legend([bottombar, topbar], ['Ratio of Missing Value for POI','Ratio of Missing Value for All'], loc= 1, ncol = 2, prop={'size':16})\n",
    "# l.draw_frame(False)\n",
    "\n",
    "# #Optional code - Make plot look nicer\n",
    "# sns.despine(left=True)\n",
    "# bottom_plot.set_xlabel(\"Ratio: Missing Value Out of Group\")\n",
    "# bottom_plot.set_ylabel(\"Features\")\n",
    "\n",
    "# #Set fonts to consistent 16pt size\n",
    "# for item in ([bottom_plot.xaxis.label, bottom_plot.yaxis.label] +\n",
    "#              bottom_plot.get_xticklabels() + bottom_plot.get_yticklabels()):\n",
    "#     item.set_fontsize(16)"
   ]
  },
  {
   "cell_type": "code",
   "execution_count": 555,
   "metadata": {
    "collapsed": false
   },
   "outputs": [],
   "source": [
    "# test_poi = data[data.poi == True][data.bonus != \"NaN\"].bonus\n",
    "# sns.distplot(test_poi)\n",
    "\n",
    "# test_nonpoi = data[data.poi == False][data.bonus != \"NaN\"].bonus\n",
    "# sns.distplot(test_nonpoi)"
   ]
  },
  {
   "cell_type": "code",
   "execution_count": 556,
   "metadata": {
    "collapsed": false
   },
   "outputs": [],
   "source": [
    "# check balance or not （sns plot）\n",
    "# sns.countplot(x = data[\"poi\"], data = data)\n",
    "# sns.plt.title(\"Balance Check for Original Dataset\",fontsize=12)"
   ]
  },
  {
   "cell_type": "markdown",
   "metadata": {},
   "source": [
    "## Build New Features"
   ]
  },
  {
   "cell_type": "code",
   "execution_count": 558,
   "metadata": {
    "collapsed": false
   },
   "outputs": [],
   "source": [
    "# feature selected from 40% missing value filter. \n",
    "feature = ['poi', 'salary', 'email_address', 'exercised_stock_options', 'expenses', 'other', \\\n",
    "           'restricted_stock', 'total_payments', 'total_stock_value']"
   ]
  },
  {
   "cell_type": "markdown",
   "metadata": {},
   "source": [
    "From the feature filtering above, **'poi'** and **'non-poi'** show different raitio in missing value allocation, e.g. all 'poi' has \"expenses\" value, around 40% 'non-poi' has missing value, indicating 'poi' might be more intended to have value. The initial thoughts on adding new feature is to add significant feature indicator. "
   ]
  },
  {
   "cell_type": "code",
   "execution_count": 559,
   "metadata": {
    "collapsed": true
   },
   "outputs": [],
   "source": [
    "# define indicator function\n",
    "def add_indicator(indicator_feature):\n",
    "    for feature in indicator_feature:\n",
    "        col_name = feature + str('_indicator')\n",
    "        if col_name in data.columns.tolist():\n",
    "            pass\n",
    "        else:\n",
    "            col = []\n",
    "            for index in data.index:\n",
    "                v = data.loc[index, feature]\n",
    "                if v == \"NaN\":\n",
    "                    data.loc[index, col_name] = 0\n",
    "                else:\n",
    "                    data.loc[index, col_name] = 1"
   ]
  },
  {
   "cell_type": "code",
   "execution_count": 560,
   "metadata": {
    "collapsed": false
   },
   "outputs": [],
   "source": [
    "indicator_feature = ['salary', 'email_address', 'exercised_stock_options', 'expenses', \\\n",
    "                'other', 'restricted_stock', 'total_payments', 'total_stock_value']\n",
    "add_indicator(indicator_feature)"
   ]
  },
  {
   "cell_type": "code",
   "execution_count": 561,
   "metadata": {
    "collapsed": false
   },
   "outputs": [
    {
     "data": {
      "text/html": [
       "<div>\n",
       "<table border=\"1\" class=\"dataframe\">\n",
       "  <thead>\n",
       "    <tr style=\"text-align: right;\">\n",
       "      <th></th>\n",
       "      <th>bonus</th>\n",
       "      <th>deferral_payments</th>\n",
       "      <th>deferred_income</th>\n",
       "      <th>director_fees</th>\n",
       "      <th>email_address</th>\n",
       "      <th>exercised_stock_options</th>\n",
       "      <th>expenses</th>\n",
       "      <th>from_messages</th>\n",
       "      <th>from_poi_to_this_person</th>\n",
       "      <th>from_this_person_to_poi</th>\n",
       "      <th>...</th>\n",
       "      <th>total_payments</th>\n",
       "      <th>total_stock_value</th>\n",
       "      <th>salary_indicator</th>\n",
       "      <th>email_address_indicator</th>\n",
       "      <th>exercised_stock_options_indicator</th>\n",
       "      <th>expenses_indicator</th>\n",
       "      <th>other_indicator</th>\n",
       "      <th>restricted_stock_indicator</th>\n",
       "      <th>total_payments_indicator</th>\n",
       "      <th>total_stock_value_indicator</th>\n",
       "    </tr>\n",
       "  </thead>\n",
       "  <tbody>\n",
       "    <tr>\n",
       "      <th>ALLEN PHILLIP K</th>\n",
       "      <td>4175000</td>\n",
       "      <td>2869717</td>\n",
       "      <td>-3081055</td>\n",
       "      <td>NaN</td>\n",
       "      <td>phillip.allen@enron.com</td>\n",
       "      <td>1729541</td>\n",
       "      <td>13868</td>\n",
       "      <td>2195</td>\n",
       "      <td>47</td>\n",
       "      <td>65</td>\n",
       "      <td>...</td>\n",
       "      <td>4484442</td>\n",
       "      <td>1729541</td>\n",
       "      <td>1.0</td>\n",
       "      <td>1.0</td>\n",
       "      <td>1.0</td>\n",
       "      <td>1.0</td>\n",
       "      <td>1.0</td>\n",
       "      <td>1.0</td>\n",
       "      <td>1.0</td>\n",
       "      <td>1.0</td>\n",
       "    </tr>\n",
       "    <tr>\n",
       "      <th>BADUM JAMES P</th>\n",
       "      <td>NaN</td>\n",
       "      <td>178980</td>\n",
       "      <td>NaN</td>\n",
       "      <td>NaN</td>\n",
       "      <td>NaN</td>\n",
       "      <td>257817</td>\n",
       "      <td>3486</td>\n",
       "      <td>NaN</td>\n",
       "      <td>NaN</td>\n",
       "      <td>NaN</td>\n",
       "      <td>...</td>\n",
       "      <td>182466</td>\n",
       "      <td>257817</td>\n",
       "      <td>0.0</td>\n",
       "      <td>0.0</td>\n",
       "      <td>1.0</td>\n",
       "      <td>1.0</td>\n",
       "      <td>0.0</td>\n",
       "      <td>0.0</td>\n",
       "      <td>1.0</td>\n",
       "      <td>1.0</td>\n",
       "    </tr>\n",
       "  </tbody>\n",
       "</table>\n",
       "<p>2 rows × 29 columns</p>\n",
       "</div>"
      ],
      "text/plain": [
       "                   bonus deferral_payments deferred_income director_fees  \\\n",
       "ALLEN PHILLIP K  4175000           2869717        -3081055           NaN   \n",
       "BADUM JAMES P        NaN            178980             NaN           NaN   \n",
       "\n",
       "                           email_address exercised_stock_options expenses  \\\n",
       "ALLEN PHILLIP K  phillip.allen@enron.com                 1729541    13868   \n",
       "BADUM JAMES P                        NaN                  257817     3486   \n",
       "\n",
       "                from_messages from_poi_to_this_person from_this_person_to_poi  \\\n",
       "ALLEN PHILLIP K          2195                      47                      65   \n",
       "BADUM JAMES P             NaN                     NaN                     NaN   \n",
       "\n",
       "                            ...             total_payments total_stock_value  \\\n",
       "ALLEN PHILLIP K             ...                    4484442           1729541   \n",
       "BADUM JAMES P               ...                     182466            257817   \n",
       "\n",
       "                salary_indicator email_address_indicator  \\\n",
       "ALLEN PHILLIP K              1.0                     1.0   \n",
       "BADUM JAMES P                0.0                     0.0   \n",
       "\n",
       "                exercised_stock_options_indicator expenses_indicator  \\\n",
       "ALLEN PHILLIP K                               1.0                1.0   \n",
       "BADUM JAMES P                                 1.0                1.0   \n",
       "\n",
       "                other_indicator restricted_stock_indicator  \\\n",
       "ALLEN PHILLIP K             1.0                        1.0   \n",
       "BADUM JAMES P               0.0                        0.0   \n",
       "\n",
       "                total_payments_indicator total_stock_value_indicator  \n",
       "ALLEN PHILLIP K                      1.0                         1.0  \n",
       "BADUM JAMES P                        1.0                         1.0  \n",
       "\n",
       "[2 rows x 29 columns]"
      ]
     },
     "execution_count": 561,
     "metadata": {},
     "output_type": "execute_result"
    }
   ],
   "source": [
    "data.head(2)"
   ]
  },
  {
   "cell_type": "markdown",
   "metadata": {},
   "source": [
    "## Feature Selection "
   ]
  },
  {
   "cell_type": "code",
   "execution_count": 562,
   "metadata": {
    "collapsed": false
   },
   "outputs": [
    {
     "name": "stdout",
     "output_type": "stream",
     "text": [
      "                   bonus deferral_payments deferred_income director_fees  \\\n",
      "ALLEN PHILLIP K  4175000           2869717        -3081055           NaN   \n",
      "BADUM JAMES P        NaN            178980             NaN           NaN   \n",
      "\n",
      "                exercised_stock_options expenses from_messages  \\\n",
      "ALLEN PHILLIP K                 1729541    13868          2195   \n",
      "BADUM JAMES P                    257817     3486           NaN   \n",
      "\n",
      "                from_poi_to_this_person from_this_person_to_poi loan_advances  \\\n",
      "ALLEN PHILLIP K                      47                      65           NaN   \n",
      "BADUM JAMES P                       NaN                     NaN           NaN   \n",
      "\n",
      "                            ...             total_payments total_stock_value  \\\n",
      "ALLEN PHILLIP K             ...                    4484442           1729541   \n",
      "BADUM JAMES P               ...                     182466            257817   \n",
      "\n",
      "                salary_indicator email_address_indicator  \\\n",
      "ALLEN PHILLIP K              1.0                     1.0   \n",
      "BADUM JAMES P                0.0                     0.0   \n",
      "\n",
      "                exercised_stock_options_indicator expenses_indicator  \\\n",
      "ALLEN PHILLIP K                               1.0                1.0   \n",
      "BADUM JAMES P                                 1.0                1.0   \n",
      "\n",
      "                other_indicator restricted_stock_indicator  \\\n",
      "ALLEN PHILLIP K             1.0                        1.0   \n",
      "BADUM JAMES P               0.0                        0.0   \n",
      "\n",
      "                total_payments_indicator total_stock_value_indicator  \n",
      "ALLEN PHILLIP K                      1.0                         1.0  \n",
      "BADUM JAMES P                        1.0                         1.0  \n",
      "\n",
      "[2 rows x 28 columns]\n"
     ]
    }
   ],
   "source": [
    "# drop \"email_address\"\n",
    "data = data.drop(\"email_address\", axis = 1)\n",
    "print data.head(2)"
   ]
  },
  {
   "cell_type": "code",
   "execution_count": 563,
   "metadata": {
    "collapsed": false
   },
   "outputs": [
    {
     "name": "stdout",
     "output_type": "stream",
     "text": [
      "['poi', 'exercised_stock_options', 'bonus', 'total_payments', 'from_messages', 'long_term_incentive', 'shared_receipt_with_poi', 'expenses']\n"
     ]
    }
   ],
   "source": [
    "print features_list"
   ]
  },
  {
   "cell_type": "code",
   "execution_count": 564,
   "metadata": {
    "collapsed": false
   },
   "outputs": [
    {
     "name": "stdout",
     "output_type": "stream",
     "text": [
      "28\n",
      "['bonus', 'deferral_payments', 'deferred_income', 'director_fees', 'exercised_stock_options', 'expenses', 'from_messages', 'from_poi_to_this_person', 'from_this_person_to_poi', 'loan_advances', 'long_term_incentive', 'other', 'poi', 'restricted_stock', 'restricted_stock_deferred', 'salary', 'shared_receipt_with_poi', 'to_messages', 'total_payments', 'total_stock_value', 'salary_indicator', 'email_address_indicator', 'exercised_stock_options_indicator', 'expenses_indicator', 'other_indicator', 'restricted_stock_indicator', 'total_payments_indicator', 'total_stock_value_indicator']\n"
     ]
    }
   ],
   "source": [
    "# convert the dataframe back into dict\n",
    "my_dataset = data.T.to_dict()\n",
    "features_list = data.columns.tolist()\n",
    "print len(features_list)\n",
    "print features_list"
   ]
  },
  {
   "cell_type": "code",
   "execution_count": 565,
   "metadata": {
    "collapsed": false
   },
   "outputs": [
    {
     "name": "stdout",
     "output_type": "stream",
     "text": [
      "['poi', 'bonus', 'deferral_payments', 'deferred_income', 'director_fees', 'exercised_stock_options', 'expenses', 'from_messages', 'from_poi_to_this_person', 'from_this_person_to_poi', 'loan_advances', 'long_term_incentive', 'other', 'restricted_stock', 'restricted_stock_deferred', 'salary', 'shared_receipt_with_poi', 'to_messages', 'total_payments', 'total_stock_value', 'salary_indicator', 'email_address_indicator', 'exercised_stock_options_indicator', 'expenses_indicator', 'other_indicator', 'restricted_stock_indicator', 'total_payments_indicator', 'total_stock_value_indicator']\n"
     ]
    }
   ],
   "source": [
    "# reoder and put \"poi\" to the first place in 'features_list'\n",
    "features_list.remove(\"poi\") \n",
    "features_list.insert(0, \"poi\")\n",
    "print features_list"
   ]
  },
  {
   "cell_type": "code",
   "execution_count": 566,
   "metadata": {
    "collapsed": false
   },
   "outputs": [],
   "source": [
    "# get labels and features\n",
    "from feature_format import featureFormat, targetFeatureSplit\n",
    "from tester import dump_classifier_and_data\n",
    "data = featureFormat(my_dataset, features_list, sort_keys = True)\n",
    "labels, features = targetFeatureSplit(data) # labels and features are both list"
   ]
  },
  {
   "cell_type": "code",
   "execution_count": 567,
   "metadata": {
    "collapsed": false
   },
   "outputs": [
    {
     "data": {
      "text/plain": [
       "DecisionTreeClassifier(class_weight=None, criterion='gini', max_depth=None,\n",
       "            max_features=None, max_leaf_nodes=None, min_samples_leaf=1,\n",
       "            min_samples_split=2, min_weight_fraction_leaf=0.0,\n",
       "            presort=False, random_state=0, splitter='best')"
      ]
     },
     "execution_count": 567,
     "metadata": {},
     "output_type": "execute_result"
    }
   ],
   "source": [
    "# utilize decision tree to rank features by their importance\n",
    "# the reason why using decison tree is because they are not \n",
    "\n",
    "clf = DecisionTreeClassifier(random_state = 0) # fit using defult value\n",
    "clf.fit(features, labels)"
   ]
  },
  {
   "cell_type": "code",
   "execution_count": 568,
   "metadata": {
    "collapsed": false
   },
   "outputs": [
    {
     "name": "stdout",
     "output_type": "stream",
     "text": [
      "Rank of features\n",
      "Ranking place 1, value 0.200000: exercised_stock_options\n",
      "Ranking place 2, value 0.162362: bonus\n",
      "Ranking place 3, value 0.161250: total_payments\n",
      "Ranking place 4, value 0.113276: from_messages\n",
      "Ranking place 5, value 0.108844: long_term_incentive\n",
      "Ranking place 6, value 0.090428: shared_receipt_with_poi\n",
      "Ranking place 7, value 0.064965: expenses\n",
      "Ranking place 8, value 0.031746: to_messages\n",
      "Ranking place 9, value 0.029993: other\n",
      "Ranking place 10, value 0.029799: restricted_stock\n",
      "Ranking place 11, value 0.007338: from_this_person_to_poi\n",
      "Ranking place 12, value 0.000000: expenses_indicator\n",
      "Ranking place 13, value 0.000000: restricted_stock_indicator\n",
      "Ranking place 14, value 0.000000: exercised_stock_options_indicator\n",
      "Ranking place 15, value 0.000000: email_address_indicator\n",
      "Ranking place 16, value 0.000000: salary_indicator\n",
      "Ranking place 17, value 0.000000: total_stock_value\n",
      "Ranking place 18, value 0.000000: other_indicator\n",
      "Ranking place 19, value 0.000000: restricted_stock_deferred\n",
      "Ranking place 20, value 0.000000: total_payments_indicator\n",
      "Ranking place 21, value 0.000000: loan_advances\n",
      "Ranking place 22, value 0.000000: from_poi_to_this_person\n",
      "Ranking place 23, value 0.000000: director_fees\n",
      "Ranking place 24, value 0.000000: deferred_income\n",
      "Ranking place 25, value 0.000000: deferral_payments\n",
      "Ranking place 26, value 0.000000: salary\n",
      "Ranking place 27, value 0.000000: total_stock_value_indicator\n"
     ]
    }
   ],
   "source": [
    "feature_importances = clf.feature_importances_\n",
    "sorted_id = (-np.array(feature_importances)).argsort()\n",
    "print \"Rank of features\"\n",
    "j = 1\n",
    "for i in sorted_id:\n",
    "    print \"Ranking place {}, value {:4f}: {}\".\\\n",
    "    format(j,feature_importances[i], features_list[i+1])\n",
    "    j += 1"
   ]
  },
  {
   "cell_type": "markdown",
   "metadata": {},
   "source": [
    "# Apply and Tune the Algorithm"
   ]
  },
  {
   "cell_type": "markdown",
   "metadata": {
    "collapsed": true
   },
   "source": [
    "\n",
    "CRITERIA\n",
    "MEETS SPECIFICATIONS\n",
    "Pick an algorithm (related mini-project: Lessons 1-3)\n",
    "\n",
    "At least 2 different algorithms are attempted and their performance is compared, with the more performant one used in the final analysis.\n",
    "\n",
    "Discuss parameter tuning and its importance.\n",
    "\n",
    "Response addresses what it means to perform parameter tuning and why it is important.\n",
    "\n",
    "Tune the algorithm (related mini-project: Lessons 2, 3, 13)\n",
    "\n",
    "At least one important parameter tuned with at least 3 settings investigated systematically, or any of the following are true:\n",
    "\n",
    "GridSearchCV used for parameter tuning\n",
    "Several parameters tuned\n",
    "Parameter tuning incorporated into algorithm selection (i.e. parameters tuned for more than one algorithm, and best algorithm-tune combination selected for final analysis)."
   ]
  },
  {
   "cell_type": "markdown",
   "metadata": {},
   "source": [
    "## Create Training and Testing Set "
   ]
  },
  {
   "cell_type": "code",
   "execution_count": 644,
   "metadata": {
    "collapsed": false
   },
   "outputs": [
    {
     "name": "stdout",
     "output_type": "stream",
     "text": [
      "8\n",
      "['poi', 'exercised_stock_options', 'bonus', 'total_payments', 'from_messages', 'long_term_incentive', 'shared_receipt_with_poi', 'expenses']\n"
     ]
    }
   ],
   "source": [
    "# select top 8 features\n",
    "features_list = [\"poi\", \"exercised_stock_options\", \"bonus\", \\\n",
    "                 \"total_payments\", \"from_messages\",'long_term_incentive', \\\n",
    "                 \"shared_receipt_with_poi\", 'expenses']\n",
    "# , 'to_messages','other', 'restricted_stock', 'from_this_person_to_poi'\n",
    "print len(features_list)\n",
    "print features_list"
   ]
  },
  {
   "cell_type": "code",
   "execution_count": 645,
   "metadata": {
    "collapsed": false
   },
   "outputs": [],
   "source": [
    "data = featureFormat(my_dataset, features_list, sort_keys = True)\n",
    "labels, features = targetFeatureSplit(data)"
   ]
  },
  {
   "cell_type": "code",
   "execution_count": 646,
   "metadata": {
    "collapsed": true
   },
   "outputs": [],
   "source": [
    "# split data into training and testing set\n",
    "X_train, X_test, y_train, y_test = \\\n",
    "train_test_split(features, labels, test_size = 0.2,random_state = 0)"
   ]
  },
  {
   "cell_type": "code",
   "execution_count": 647,
   "metadata": {
    "collapsed": false
   },
   "outputs": [
    {
     "name": "stdout",
     "output_type": "stream",
     "text": [
      "[0.0, 0.0, 0.0, 0.0, 1.0, 1.0, 0.0, 1.0, 0.0, 0.0, 0.0, 0.0, 0.0, 0.0, 0.0, 0.0, 0.0, 0.0, 0.0, 1.0, 1.0, 0.0, 0.0, 0.0, 0.0, 0.0, 0.0, 0.0, 0.0]\n"
     ]
    }
   ],
   "source": [
    "print y_test"
   ]
  },
  {
   "cell_type": "markdown",
   "metadata": {},
   "source": [
    "- Selected estimator includes: SVC, Gaussian Naive Bayes, DecisionTree, KNearest Neighbor\n",
    "- Transformer: MinMaxScaler(),StandardScaler()"
   ]
  },
  {
   "cell_type": "code",
   "execution_count": 656,
   "metadata": {
    "collapsed": false
   },
   "outputs": [
    {
     "name": "stdout",
     "output_type": "stream",
     "text": [
      "Classification report for Gaussian Naive Bayes:\n",
      "GaussianNB()\n",
      "\tAccuracy: 0.84447\tPrecision: 0.36474\tRecall: 0.22450\tF1: 0.27793\tF2: 0.24320\n",
      "\tTotal predictions: 15000\tTrue positives:  449\tFalse positives:  782\tFalse negatives: 1551\tTrue negatives: 12218\n",
      "\n",
      "Classification report for SVC:\n",
      "Got a divide by zero when trying out: SVC(C=1.0, cache_size=200, class_weight=None, coef0=0.0,\n",
      "  decision_function_shape=None, degree=3, gamma='auto', kernel='rbf',\n",
      "  max_iter=-1, probability=False, random_state=None, shrinking=True,\n",
      "  tol=0.001, verbose=False)\n",
      "Precision or recall may be undefined due to a lack of true positive predicitons.\n",
      "Classification report for Decision Tree:\n",
      "DecisionTreeClassifier(class_weight=None, criterion='gini', max_depth=None,\n",
      "            max_features=None, max_leaf_nodes=None, min_samples_leaf=1,\n",
      "            min_samples_split=2, min_weight_fraction_leaf=0.0,\n",
      "            presort=False, random_state=None, splitter='best')\n",
      "\tAccuracy: 0.83133\tPrecision: 0.35994\tRecall: 0.34050\tF1: 0.34995\tF2: 0.34422\n",
      "\tTotal predictions: 15000\tTrue positives:  681\tFalse positives: 1211\tFalse negatives: 1319\tTrue negatives: 11789\n",
      "\n",
      "Classification report for KNN:\n",
      "KNeighborsClassifier(algorithm='auto', leaf_size=30, metric='minkowski',\n",
      "           metric_params=None, n_jobs=1, n_neighbors=5, p=2,\n",
      "           weights='uniform')\n",
      "\tAccuracy: 0.86887\tPrecision: 0.52821\tRecall: 0.15450\tF1: 0.23907\tF2: 0.17997\n",
      "\tTotal predictions: 15000\tTrue positives:  309\tFalse positives:  276\tFalse negatives: 1691\tTrue negatives: 12724\n",
      "\n"
     ]
    }
   ],
   "source": [
    "# build pipeline for four estimator, train, predict and compare scores\n",
    "scaler = StandardScaler()\n",
    "kbest = SelectKBest(f_classif, k = 2)\n",
    "gnb = GaussianNB()\n",
    "svc = SVC()\n",
    "dt = DecisionTreeClassifier()\n",
    "knn = KNeighborsClassifier()\n",
    "\n",
    "pipe1 = Pipeline([(\"scaler\",scaler), ('kbest', kbest), ('gnb', gnb)])\n",
    "pipe2 = Pipeline([(\"scaler\",scaler), ('kbest', kbest), ('svc', svc)])\n",
    "pipe3 = Pipeline([(\"scaler\",scaler), ('kbest', kbest), ('dt', dt)])\n",
    "pipe4 = Pipeline([(\"scaler\",scaler), ('kbest', kbest), ('knn', knn)])\n",
    "\n",
    "# fit and predict utilizing Gaussian Naive Bayes\n",
    "pipe1.fit(X_train, y_train)\n",
    "y_pred1 = pipe1.predict(X_test)\n",
    "print \"Classification report for Gaussian Naive Bayes:\"\n",
    "# print(classification_report(y_test, y_pred1))\n",
    "test_classifier(gnb, my_dataset, features_list)\n",
    "\n",
    "# fit and predict utilizing SVC\n",
    "pipe2.fit(X_train, y_train)\n",
    "y_pred2 = pipe2.predict(X_test)\n",
    "print \"Classification report for SVC:\"\n",
    "# print(classification_report(y_test, y_pred2))\n",
    "test_classifier(svc, my_dataset, features_list)\n",
    "\n",
    "# fit and predict utilizing Decision Tree\n",
    "pipe3.fit(X_train, y_train)\n",
    "y_pred3 = pipe3.predict(X_test)\n",
    "print \"Classification report for Decision Tree:\"\n",
    "# print(classification_report(y_test, y_pred3))\n",
    "test_classifier(dt, my_dataset, features_list)\n",
    "\n",
    "# fit and predict utilizing KNN\n",
    "pipe4.fit(X_train, y_train)\n",
    "y_pred4 = pipe4.predict(X_test)\n",
    "print \"Classification report for KNN:\"\n",
    "# print(classification_report(y_test, y_pred4))\n",
    "test_classifier(knn, my_dataset, features_list)"
   ]
  },
  {
   "cell_type": "markdown",
   "metadata": {},
   "source": [
    "Choose Gaussian Naive Bayes since it has better balanced 'poi' and 'non-poi' scores. All the other estimator are performing poorly for 'poi' prediction"
   ]
  },
  {
   "cell_type": "code",
   "execution_count": 677,
   "metadata": {
    "collapsed": false
   },
   "outputs": [],
   "source": [
    "# Tuning Parameters\n",
    "pipe = Pipeline([('scaler', scaler), ('kbest', kbest), ('dt', dt)])\n",
    "\n",
    "params = {\n",
    "    'dt__min_samples_split': [2, 5, 10, 20, 40],\n",
    "#     'dt__min_samples_split':[2, 3, 4, 5, 6, 7, 8],\n",
    "    'dt__max_depth':[None, 2, 4, 6, 8, 10, 15, 20],\n",
    "    'kbest__k': [1, 2, 3, 4, 5, 6, 7, 8],\n",
    "    'kbest__score_func': [f_classif, chi2],\n",
    "    }\n",
    "\n",
    "# split data into training and testing set\n",
    "X_train, X_test, y_train, y_test = train_test_split(features, labels, test_size = 0.2, \\\n",
    "                                                    random_state = 0)\n",
    "\n",
    "# make stratifiedShuffleSplit iterator for cross-validation in GridSearchCV\n",
    "sss = StratifiedShuffleSplit(y_train, n_iter = 20, test_size = 0.2, random_state = 0)\n",
    "\n",
    "# Apply GridSearchCV and run cross_validation\n",
    "clf = GridSearchCV(pipe,\n",
    "                   param_grid = params,\n",
    "                   scoring = 'f1',\n",
    "                   n_jobs = 1, \n",
    "                   cv = sss, \n",
    "                   verbose = 1, \n",
    "                   error_score = 0\n",
    "                  )"
   ]
  },
  {
   "cell_type": "markdown",
   "metadata": {},
   "source": [
    "# Validate and Evaluate"
   ]
  },
  {
   "cell_type": "markdown",
   "metadata": {},
   "source": [
    "\n",
    "CRITERIA\n",
    "MEETS SPECIFICATIONS\n",
    "Usage of Evaluation Metrics (related mini-project: Lesson 14)\n",
    "\n",
    "At least two appropriate metrics are used to evaluate algorithm performance (e.g. precision and recall), and the student articulates what those metrics measure in context of the project task.\n",
    "\n",
    "Discuss validation and its importance.\n",
    "\n",
    "Response addresses what validation is and why it is important.\n",
    "\n",
    "Validation Strategy (related mini-project: Lesson 13)\n",
    "\n",
    "Performance of the final algorithm selected is assessed by splitting the data into training and testing sets or through the use of cross validation, noting the specific type of validation performed.\n",
    "\n",
    "Algorithm Performance\n",
    "\n",
    "When tester.py is used to evaluate performance, precision and recall are both at least 0.3."
   ]
  },
  {
   "cell_type": "code",
   "execution_count": 678,
   "metadata": {
    "collapsed": false
   },
   "outputs": [
    {
     "name": "stderr",
     "output_type": "stream",
     "text": [
      "[Parallel(n_jobs=1)]: Done  49 tasks       | elapsed:    0.3s\n",
      "[Parallel(n_jobs=1)]: Done 199 tasks       | elapsed:    1.3s\n",
      "[Parallel(n_jobs=1)]: Done 449 tasks       | elapsed:    3.2s\n",
      "[Parallel(n_jobs=1)]: Done 799 tasks       | elapsed:    5.8s\n",
      "[Parallel(n_jobs=1)]: Done 1249 tasks       | elapsed:    9.0s\n",
      "[Parallel(n_jobs=1)]: Done 1799 tasks       | elapsed:   12.9s\n",
      "[Parallel(n_jobs=1)]: Done 2449 tasks       | elapsed:   17.6s\n",
      "[Parallel(n_jobs=1)]: Done 3199 tasks       | elapsed:   22.4s\n",
      "[Parallel(n_jobs=1)]: Done 4049 tasks       | elapsed:   27.8s\n",
      "[Parallel(n_jobs=1)]: Done 4999 tasks       | elapsed:   33.7s\n",
      "[Parallel(n_jobs=1)]: Done 6049 tasks       | elapsed:   40.4s\n",
      "[Parallel(n_jobs=1)]: Done 7199 tasks       | elapsed:   47.6s\n",
      "[Parallel(n_jobs=1)]: Done 8449 tasks       | elapsed:   55.5s\n",
      "[Parallel(n_jobs=1)]: Done 9799 tasks       | elapsed:  1.1min\n",
      "[Parallel(n_jobs=1)]: Done 11249 tasks       | elapsed:  1.2min\n",
      "[Parallel(n_jobs=1)]: Done 12799 tasks       | elapsed:  1.4min\n"
     ]
    },
    {
     "name": "stdout",
     "output_type": "stream",
     "text": [
      "Fitting 20 folds for each of 640 candidates, totalling 12800 fits\n",
      "\n",
      "Classification performance report for tuned Gaussian Naive Bayes:\n",
      "             precision    recall  f1-score   support\n",
      "\n",
      "        0.0       0.82      0.75      0.78        24\n",
      "        1.0       0.14      0.20      0.17         5\n",
      "\n",
      "avg / total       0.70      0.66      0.68        29\n",
      "\n",
      "Best estimator:\n",
      "Pipeline(steps=[('scaler', StandardScaler(copy=True, with_mean=True, with_std=True)), ('kbest', SelectKBest(k=3, score_func=<function f_classif at 0x115116b90>)), ('dt', DecisionTreeClassifier(class_weight=None, criterion='gini', max_depth=8,\n",
      "            max_features=None, max_leaf_nodes=None, min_samples_leaf=1,\n",
      "            min_samples_split=2, min_weight_fraction_leaf=0.0,\n",
      "            presort=False, random_state=None, splitter='best'))])\n"
     ]
    },
    {
     "name": "stderr",
     "output_type": "stream",
     "text": [
      "[Parallel(n_jobs=1)]: Done 12800 out of 12800 | elapsed:  1.4min finished\n"
     ]
    }
   ],
   "source": [
    "clf.fit(X_train, y_train)\n",
    "y_pred = clf.predict(X_test)\n",
    "print '\\n',\"Classification performance report for tuned Gaussian Naive Bayes:\"\n",
    "print (classification_report(y_test,y_pred))\n",
    "print 'Best estimator:'\n",
    "print clf.best_estimator_\n",
    "clf = clf.best_estimator_"
   ]
  },
  {
   "cell_type": "code",
   "execution_count": 679,
   "metadata": {
    "collapsed": false
   },
   "outputs": [
    {
     "name": "stdout",
     "output_type": "stream",
     "text": [
      "Pipeline(steps=[('scaler', StandardScaler(copy=True, with_mean=True, with_std=True)), ('kbest', SelectKBest(k=3, score_func=<function f_classif at 0x115116b90>)), ('dt', DecisionTreeClassifier(class_weight=None, criterion='gini', max_depth=8,\n",
      "            max_features=None, max_leaf_nodes=None, min_samples_leaf=1,\n",
      "            min_samples_split=2, min_weight_fraction_leaf=0.0,\n",
      "            presort=False, random_state=None, splitter='best'))])\n",
      "\tAccuracy: 0.82727\tPrecision: 0.35962\tRecall: 0.37850\tF1: 0.36882\tF2: 0.37457\n",
      "\tTotal predictions: 15000\tTrue positives:  757\tFalse positives: 1348\tFalse negatives: 1243\tTrue negatives: 11652\n",
      "\n"
     ]
    }
   ],
   "source": [
    "test_classifier(clf, my_dataset, features_list)"
   ]
  },
  {
   "cell_type": "code",
   "execution_count": null,
   "metadata": {
    "collapsed": true
   },
   "outputs": [],
   "source": []
  },
  {
   "cell_type": "code",
   "execution_count": null,
   "metadata": {
    "collapsed": true
   },
   "outputs": [],
   "source": []
  },
  {
   "cell_type": "code",
   "execution_count": null,
   "metadata": {
    "collapsed": true
   },
   "outputs": [],
   "source": []
  },
  {
   "cell_type": "code",
   "execution_count": null,
   "metadata": {
    "collapsed": true
   },
   "outputs": [],
   "source": []
  }
 ],
 "metadata": {
  "kernelspec": {
   "display_name": "Python 2",
   "language": "python",
   "name": "python2"
  },
  "language_info": {
   "codemirror_mode": {
    "name": "ipython",
    "version": 2
   },
   "file_extension": ".py",
   "mimetype": "text/x-python",
   "name": "python",
   "nbconvert_exporter": "python",
   "pygments_lexer": "ipython2",
   "version": "2.7.12"
  }
 },
 "nbformat": 4,
 "nbformat_minor": 0
}
